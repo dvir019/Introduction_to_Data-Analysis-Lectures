{
 "cells": [
  {
   "cell_type": "code",
   "execution_count": null,
   "metadata": {},
   "outputs": [],
   "source": [
    "# imports\n",
    "import pandas as pd\n",
    "import matplotlib.pyplot as plt\n",
    "import seaborn as sns\n",
    "import numpy as np\n",
    "from scipy.spatial import distance  # distance metrics"
   ]
  },
  {
   "cell_type": "markdown",
   "metadata": {},
   "source": [
    "## אפיון קורסים\n",
    "\n",
    "הסטודנטים בפקולטה לתעשייה וניהול רצו לעזור לסטודנטים חדשים לבחור קורסי בחירה. לשם כך, הם אספו נתונים מסטודנטים על מידת העניין של הקורס ורמת הקושי של עשרים קורסים. כל פרמטר דורג בסולם בין 1 ל-10. הסטודנטים מעוניינים לחלק את הקורסים לשלוש קבוצות לפי הדירוגים הממוצעים של פרמטרים אלה, כך שקורסים שדומים זה לזה בשני המאפיינים יהיו באותה הקבוצה. \n",
    "\n",
    "הגרף הבא מראה את כל הקורסים, כאשר כל נקודה מייצגת קורס, ציר האיקס מייצג את ממוצע רמת הקושי של הקורס וציר הוואי מייצג את ממוצע מידת העניין בקורס"
   ]
  },
  {
   "cell_type": "code",
   "execution_count": null,
   "metadata": {},
   "outputs": [],
   "source": [
    "# courses_rankings_df = pd.read_csv('courses_rankings.csv')  # read data\n",
    "clustering_df = pd.read_csv('clustering_example_scale.csv')\n",
    "\n",
    "# plot courses by difficulty and interest levels - each point is represents a course\n",
    "ax = sns.scatterplot(x='difficulty_level', y='interest_level', data=clustering_df)  "
   ]
  },
  {
   "cell_type": "markdown",
   "metadata": {},
   "source": [
    "הסטודנטים בחרו להשתמש בשיטות קלאסטרינג (אשכול) אשר מחלקות את הנתונים לקבוצות\n",
    "\n",
    "גל ושקד השתמשו בשתי שיטות שונות וקיבלו חלוקה שונה לקבוצות, כפי שמופיע בגרף מטה.\n",
    "\n",
    "כמו קודם, כל נקודה מייצגת קורס. הצבעים מייצגים קבוצות שונות של קורסים. למשל, כל הקורסים הכתומים ייחשבו כחלק מקבוצת קורסים אחת"
   ]
  },
  {
   "cell_type": "code",
   "execution_count": null,
   "metadata": {
    "scrolled": true
   },
   "outputs": [],
   "source": [
    "# get data only for Gal and Shaked\n",
    "shaked_gal_clustering_df = clustering_df[clustering_df[\"clustering_method\"].isin(['Shaked', 'Gal'])]\n",
    "\n",
    "# plot the data\n",
    "g = sns.FacetGrid(shaked_gal_clustering_df, col=\"clustering_method\", hue=\"cluster\")\n",
    "g.map(plt.scatter, \"difficulty_level\", \"interest_level\")\n",
    "g.add_legend(frameon=True);"
   ]
  },
  {
   "cell_type": "markdown",
   "metadata": {},
   "source": [
    "### משימה 1\n",
    "\n",
    "איזו חלוקה לקבוצות עדיפה לדעתכם, של שקד או של גל?\n",
    "\n",
    "מדוע?"
   ]
  },
  {
   "cell_type": "markdown",
   "metadata": {},
   "source": [
    "<הכניסו את תשובתכם כאן>"
   ]
  },
  {
   "cell_type": "markdown",
   "metadata": {},
   "source": [
    "### משימה 2\n",
    "\n",
    "המציאו מדד (או מדדים) אשר יתנו \"ציון\" לטיב של חלוקה לקבוצות.\n",
    "\n",
    "מדד מסוג זה צריך לקבל כקלט את כל הנקודות ושיוכן לקבוצה, ולהחזיר ערך מספרי."
   ]
  },
  {
   "cell_type": "markdown",
   "metadata": {},
   "source": [
    "תארו את המדד במילים בתא זה. ציינו מה מטרת המדד (כלומר, מה הופך חלוקה מסוימת לקבוצות לטובה יותר או פחות) וכיצד ברצונכם \n",
    "לחשב אותו\n",
    "\n",
    "<תיאור המדד במילים>"
   ]
  },
  {
   "cell_type": "markdown",
   "metadata": {},
   "source": [
    "כעת, כיתבו קוד לחישוב המדד, ובחנו אותו על החלוקה לקבוצות שביצעו גל ושקד. \n",
    "\n",
    "לרשותכם שתי פונקציות עזר - אחת המחזירה את כל הנקודות בקבוצה לפי חלוקה מסוימת לקבוצות.\n",
    "\n",
    "הפונקציה השנייה הינה פונקציה קיימת של פייתון המחזירה מרחק בין שתי נקודות."
   ]
  },
  {
   "cell_type": "code",
   "execution_count": null,
   "metadata": {},
   "outputs": [],
   "source": [
    "def get_all_points_in_cluster(clusters_df, cluster_name, clustering_method):\n",
    "    '''\n",
    "    This function gets as input a dataframe with clusters, the name of the clustering method \n",
    "    and the name of a cluster, and returns all points in that cluster as a numpy array\n",
    "    '''\n",
    "    # filter dataframe to get only points from the appropriate clustering method and appropriate cluster\n",
    "    cluster_df = clusters_df[(clusters_df['cluster'] == cluster_name) & (clusters_df['clustering_method'] == clustering_method)]\n",
    "    # get only the ranking columns\n",
    "    cluster_points = cluster_df[['difficulty_level','interest_level']]\n",
    "    # convert columns to numpy array\n",
    "    cluster_points = cluster_points.values\n",
    "    return cluster_points"
   ]
  },
  {
   "cell_type": "code",
   "execution_count": null,
   "metadata": {},
   "outputs": [],
   "source": [
    "# example use of 'get_all_points_in_cluster' - \n",
    "# get all courses from cluster A according to Gal's clustering\n",
    "Gal_A_points = get_all_points_in_cluster(clustering_df,'A','Gal')\n",
    "print(Gal_A_points)"
   ]
  },
  {
   "cell_type": "code",
   "execution_count": null,
   "metadata": {},
   "outputs": [],
   "source": [
    "# you can also use the 'distance.euclidean' function to get the distance between two points\n",
    "# example use of euclidean distance:\n",
    "distance_between_first_two_points = distance.euclidean(Gal_A_points[0], Gal_A_points[1])\n",
    "print(distance_between_first_two_points)"
   ]
  },
  {
   "cell_type": "markdown",
   "metadata": {},
   "source": [
    "כתבו מדד או מדדים שהמצאתם בתאים הבאים:"
   ]
  },
  {
   "cell_type": "code",
   "execution_count": null,
   "metadata": {},
   "outputs": [],
   "source": [
    "def measure_clustering_goodness_1(clustering_df, clustering_method):\n",
    "    pass  # TODO: replace with your code"
   ]
  },
  {
   "cell_type": "code",
   "execution_count": null,
   "metadata": {},
   "outputs": [],
   "source": [
    "def measure_clustering_goodness_2(clustering_df, clustering_method):\n",
    "    pass  # TODO: replace with your code"
   ]
  },
  {
   "cell_type": "code",
   "execution_count": null,
   "metadata": {},
   "outputs": [],
   "source": [
    "def measure_clustering_goodness_3(clustering_df, clustering_method):\n",
    "    pass  # TODO: replace with your code"
   ]
  },
  {
   "cell_type": "markdown",
   "metadata": {},
   "source": [
    "נסו את המדדים שלכם על החלוקה לקבוצות של גל ושקד.\n",
    "\n",
    "האם הציונים שקיבלו תואמים את תשובתכם למשימה 1?"
   ]
  },
  {
   "cell_type": "code",
   "execution_count": null,
   "metadata": {},
   "outputs": [],
   "source": [
    "# Gal's clustering score\n",
    "print('Gal clustering score: ', measure_clustering_goodness_1(clustering_df, 'Gal'))\n",
    "\n",
    "# Shaked's clustering score\n",
    "print('Shaked clustering score: ', measure_clustering_goodness_1(clustering_df, 'Shaked'))"
   ]
  }
 ],
 "metadata": {
  "kernelspec": {
   "display_name": "Python 3",
   "language": "python",
   "name": "python3"
  },
  "language_info": {
   "codemirror_mode": {
    "name": "ipython",
    "version": 3
   },
   "file_extension": ".py",
   "mimetype": "text/x-python",
   "name": "python",
   "nbconvert_exporter": "python",
   "pygments_lexer": "ipython3",
   "version": "3.7.1"
  }
 },
 "nbformat": 4,
 "nbformat_minor": 2
}
