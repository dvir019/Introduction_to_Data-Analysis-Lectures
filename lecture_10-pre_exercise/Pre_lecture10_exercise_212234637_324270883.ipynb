{
 "cells": [
  {
   "cell_type": "markdown",
   "metadata": {},
   "source": [
    "# <font color='red'>פרויקט ״מדיקר״</font>\n",
    "\n",
    "מגישים:\n",
    "\n",
    "דביר טויטו 324270883\n",
    "\n",
    "רועי מסקליק 212234637"
   ]
  },
  {
   "cell_type": "markdown",
   "metadata": {},
   "source": [
    "לאור משבר הקורונה ישנה דרישה גבוהה לזיהוי אוכלוסיות בסיכון על מנת לספק סיוע הולם. לשם כך חברת ״מדיקר״ גייסה שני צוותים ליצירת מסווגים לאוכלוסיה בסיכון. כל אחד מן הצוותים הציע מסווג שאומן על נתונים מעשרות אלפי אנשים הכולל מידע כגון מחלות רקע, לחץ דם, דופק ועוד. המסווג חוזה עבור כל אדם האם הוא שייך לקבוצת אוכלוסיה בסיכון או לא.\n",
    "\n",
    "חברת ״מדיקר״ מעוניינת להחליט באיזה מסווג להשתמש, לצורך כך אספה נתונים אמיתיים על 40 אנשים עבורם ידוע האם הם משתייכים לקבוצת האוכלוסיה בסיכון. קבוצת אנשים זו לא נכללה בנתונים שעליהם אומנו המסווגים. \n",
    "\n",
    "המידע מתויג בצורה בינארית: אפס - אוכלוסיה לא בסיכון, אחד - אוכלוסיה בסיכון. ניתן להתייחס לנתונים אלו כנתונים אמינים. \n",
    "\n",
    "להלן הנתונים: "
   ]
  },
  {
   "cell_type": "code",
   "execution_count": 1,
   "metadata": {},
   "outputs": [],
   "source": [
    "import numpy as np\n",
    "np.set_printoptions(linewidth=100) # for printing each array in a single line"
   ]
  },
  {
   "cell_type": "code",
   "execution_count": 2,
   "metadata": {},
   "outputs": [],
   "source": [
    "# The real_data numpy array contain 40 items representing the real data gathered by \"Medicare\"\n",
    "# each item in the numpy array represents the true and reliable classification of a person. \n",
    "# 0 - does not belong to at risk population, 1 - belongs to at risk population\n",
    "# for example, the person in index 0 is not at risk, while the last one (index 39) is at risk\n",
    "\n",
    "real_data    = np.array([0, 0, 0, 0, 0, 0, 0, 0, 0, 0, 0, 0, 0, 0, 0, 0, 0, 0, 0, 0, \n",
    "                         0, 0, 0, 0, 0, 0, 0, 0, 0, 0, 0, 0, 0, 0, 0, 0, 0, 0, 1, 1])"
   ]
  },
  {
   "cell_type": "markdown",
   "metadata": {},
   "source": [
    "## משימה 1"
   ]
  },
  {
   "cell_type": "markdown",
   "metadata": {},
   "source": [
    "הנהלת החברה מבקשת את עזרתכם בבחירת המסווג המתאים יותר למשימה. להלן תוצאות הסיווג של שני המסווגים שהוצעו:"
   ]
  },
  {
   "cell_type": "code",
   "execution_count": 3,
   "metadata": {},
   "outputs": [],
   "source": [
    "# each item in each of the following numpy arrays represents the predicted classification of a person. \n",
    "# classifier 1 classified the last person (index 39) as at risk, while classifier 2 classified the same person as not at risk. In this case, classifier 1 was correct\n",
    "\n",
    "classifier_1 = np.array([0, 0, 0, 0, 0, 0, 0, 0, 0, 0, 0, 0, 0, 0, 0, 0, 0, 0, 0, 0, \n",
    "                         0, 0, 0, 0, 0, 0, 0, 0, 0, 0, 0, 0, 0, 0, 0, 0, 1, 1, 0, 1])\n",
    "classifier_2 = np.array([0, 0, 0, 0, 0, 0, 0, 0, 0, 0, 0, 0, 0, 0, 0, 0, 0, 0, 0, 0, \n",
    "                         0, 0, 0, 0, 0, 0, 0, 0, 0, 0, 0, 0, 0, 0, 0, 0, 0, 0, 0, 0])"
   ]
  },
  {
   "cell_type": "markdown",
   "metadata": {},
   "source": [
    "באיזה מן המסווגים הייתם בוחרים? מדוע?"
   ]
  },
  {
   "cell_type": "markdown",
   "metadata": {},
   "source": [
    "אנו היינו בוחרים במסווג השני, כי יש לו יותר אחוזי הצלחה מלראשון, ואת זאת ניתן לראות בקוד הבא."
   ]
  },
  {
   "cell_type": "code",
   "execution_count": 5,
   "metadata": {},
   "outputs": [
    {
     "name": "stdout",
     "output_type": "stream",
     "text": [
      "The accuracy of the classifier 1 is: 0.925\n",
      "The accuracy of the classifier 2 is: 0.95\n"
     ]
    }
   ],
   "source": [
    "def get_matches_percentage(real_data, classifier_results):\n",
    "    total_observations = len(real_data)\n",
    "    total_matches = 0\n",
    "    for pred_value, real_value in zip(real_data, classifier_results):\n",
    "        if pred_value == real_value:\n",
    "            total_matches += 1\n",
    "    return total_matches / total_observations\n",
    "        \n",
    "\n",
    "matches_percentage_1 = get_matches_percentage(real_data, classifier_1)\n",
    "matches_percentage_2 = get_matches_percentage(real_data, classifier_2)\n",
    "\n",
    "print(f\"The accuracy of the classifier 1 is: {matches_percentage_1}\")\n",
    "print(f\"The accuracy of the classifier 2 is: {matches_percentage_2}\")"
   ]
  },
  {
   "cell_type": "markdown",
   "metadata": {},
   "source": [
    "## משימה 2"
   ]
  },
  {
   "cell_type": "markdown",
   "metadata": {},
   "source": [
    "הציעו מדד או מספר מדדים מספריים המעריכים את טיב המסווג על סמך תוצאות המסווג והמידע האמיתי. מדד גבוה יותר יציין כי המסווג טוב יותר<br>\n",
    "ממשו את המדד או המדדים שהצעתם על ידי השלמת הפונקציות הבאות, המקבלות את תוצאות המסווג ואת המידע האמיתי. הנכם/ן רשאים לשנות שמות הפונקציות לבחירתכם/ן.<br>\n",
    "\n",
    "מצורפת דוגמא למדד אותו אתם כבר מכירים - מדד דיוק בסיסי אשר בודק את אחוז ההצלחה בסיווג.\n",
    "\n",
    "שימו לב: אין תשובה אחת נכונה<br>"
   ]
  },
  {
   "cell_type": "code",
   "execution_count": 14,
   "metadata": {},
   "outputs": [],
   "source": [
    "# Classifier measurement example - accuracy\n",
    "def calculate_accuracy(real_data, classifier_results):\n",
    "    correct = 0\n",
    "    for person_index in range(len(real_data)):\n",
    "        if real_data[person_index] == classifier_results[person_index]:\n",
    "            correct += 1\n",
    "    \n",
    "    success_rate = correct / len(real_data)\n",
    "    return success_rate"
   ]
  },
  {
   "cell_type": "code",
   "execution_count": 6,
   "metadata": {},
   "outputs": [],
   "source": [
    "# measure 1\n",
    "def calculate_classifier_measure1(real_data, classifier_results):\n",
    "    total_observations = len(real_data)\n",
    "    measure = 0\n",
    "    for pred_value, real_value in zip(real_data, classifier_results):\n",
    "        if pred_value == real_value:\n",
    "            measure += 1\n",
    "    success_rate = measure / (total_observations ** 2)  # Emphasises the size of the sample\n",
    "    return success_rate"
   ]
  },
  {
   "cell_type": "code",
   "execution_count": 1,
   "metadata": {},
   "outputs": [],
   "source": [
    "# measure 2\n",
    "def calculate_classifier_measure2(real_data, classifier_results):\n",
    "    total_observations = len(real_data)\n",
    "    measure = 0\n",
    "    longest_sequence_counter = 0\n",
    "    current_sequence_counter = 0\n",
    "    for pred_value, real_value in zip(real_data, classifier_results):\n",
    "        if pred_value == real_value:\n",
    "            measure += 1\n",
    "            current_sequence_counter += 1\n",
    "        else:\n",
    "            if current_sequence_counter > longest_sequence_counter:\n",
    "                longest_sequence_counter = current_sequence_counter\n",
    "                current_sequence_counter = 0\n",
    "    success_rate =  (measure / (total_observations ** 2))  # Emphasises the size of the sample and\n",
    "    success_rate = (success_rate * longest_sequence_counter) / (longest_sequence_counter + 1)  # Emphasises the longest sequence of successes\n",
    "    return success_rate"
   ]
  },
  {
   "cell_type": "markdown",
   "metadata": {},
   "source": [
    "השתמשו במדד/ים שהצעתם/ן על מנת לבחון את המסווגים שהוצעו, האם תוצאות המדדים תומכות בבחירתכם במשימה הקודמת? "
   ]
  },
  {
   "cell_type": "code",
   "execution_count": 15,
   "metadata": {},
   "outputs": [
    {
     "data": {
      "text/plain": [
       "0.925"
      ]
     },
     "execution_count": 15,
     "metadata": {},
     "output_type": "execute_result"
    }
   ],
   "source": [
    "# example\n",
    "calculate_accuracy(real_data, classifier_1)"
   ]
  },
  {
   "cell_type": "code",
   "execution_count": 8,
   "metadata": {},
   "outputs": [
    {
     "name": "stdout",
     "output_type": "stream",
     "text": [
      "The accuracy of the classifier 1 is: 0.023125\n",
      "The accuracy of the classifier 2 is: 0.02375\n"
     ]
    }
   ],
   "source": [
    "# Test measure 1\n",
    "matches_percentage_1 = calculate_classifier_measure1(real_data, classifier_1)\n",
    "matches_percentage_2 = calculate_classifier_measure1(real_data, classifier_2)\n",
    "\n",
    "print(f\"The accuracy of the classifier 1 is: {matches_percentage_1}\")\n",
    "print(f\"The accuracy of the classifier 2 is: {matches_percentage_2}\")"
   ]
  },
  {
   "cell_type": "code",
   "execution_count": 9,
   "metadata": {},
   "outputs": [
    {
     "name": "stdout",
     "output_type": "stream",
     "text": [
      "The accuracy of the classifier 1 is: 0.0225\n",
      "The accuracy of the classifier 2 is: 0.02314102564102564\n"
     ]
    }
   ],
   "source": [
    "# Test measure 2\n",
    "matches_percentage_1 = calculate_classifier_measure2(real_data, classifier_1)\n",
    "matches_percentage_2 = calculate_classifier_measure2(real_data, classifier_2)\n",
    "\n",
    "print(f\"The accuracy of the classifier 1 is: {matches_percentage_1}\")\n",
    "print(f\"The accuracy of the classifier 2 is: {matches_percentage_2}\")"
   ]
  },
  {
   "cell_type": "markdown",
   "metadata": {},
   "source": [
    "## משימה 3"
   ]
  },
  {
   "cell_type": "markdown",
   "metadata": {},
   "source": [
    "צוות אחר בחברה הציע מסווג נוסף, להלן תוצאות המסווג על המידע שברשותנו:"
   ]
  },
  {
   "cell_type": "code",
   "execution_count": 11,
   "metadata": {},
   "outputs": [],
   "source": [
    "classifier_3 = np.array([0, 0, 0, 0, 0, 0, 0, 0, 0, 0, 0, 0, 0, 0, 0, 0, 0, 0, 0, 0, \n",
    "                         0, 0, 0, 0, 0, 0, 0, 0, 0, 0, 0, 0, 0, 0, 0, 1, 1, 1, 1, 1])"
   ]
  },
  {
   "cell_type": "markdown",
   "metadata": {},
   "source": [
    "בחנו את המסווג החדש על סמך המדד/ים שהצעתם, האם תעדיפו מסווג זה על פני הקודמים שהוצעו? מדוע?"
   ]
  },
  {
   "cell_type": "code",
   "execution_count": 12,
   "metadata": {},
   "outputs": [
    {
     "name": "stdout",
     "output_type": "stream",
     "text": [
      "The accuracy of the classifier 3 by measure 1 is: 0.023125\n",
      "The accuracy of the classifier 3 by measure 2 is: 0.02248263888888889\n"
     ]
    }
   ],
   "source": [
    "matches_percentage_3_1 = calculate_classifier_measure1(real_data, classifier_3)\n",
    "matches_percentage_3_2 = calculate_classifier_measure2(real_data, classifier_3)\n",
    "\n",
    "print(f\"The accuracy of the classifier 3 by measure 1 is: {matches_percentage_3_1}\")\n",
    "print(f\"The accuracy of the classifier 3 by measure 2 is: {matches_percentage_3_2}\")"
   ]
  },
  {
   "cell_type": "markdown",
   "metadata": {},
   "source": [
    "ניתן לראות כי לפי הפעולה הראשונה שכתבנו, מסווג זה זהה בתוצאתו למסווג הראשון, ונמוך מן השני.\n",
    "בנוסף, לפי הפעולה השנייה, מסווג זה נמוך משני המסווגים האחרים.<p>\n",
    "על כן, לפי תוצאות אלו אנו סבורים כי מסווג זה פחות עדיף על פני שני המסווגים האחרים, כי הוא נמוך מהם ביותר פעמים."
   ]
  },
  {
   "cell_type": "code",
   "execution_count": null,
   "metadata": {},
   "outputs": [],
   "source": []
  }
 ],
 "metadata": {
  "kernelspec": {
   "display_name": "Python 3",
   "language": "python",
   "name": "python3"
  },
  "language_info": {
   "codemirror_mode": {
    "name": "ipython",
    "version": 3
   },
   "file_extension": ".py",
   "mimetype": "text/x-python",
   "name": "python",
   "nbconvert_exporter": "python",
   "pygments_lexer": "ipython3",
   "version": "3.7.6"
  }
 },
 "nbformat": 4,
 "nbformat_minor": 4
}
